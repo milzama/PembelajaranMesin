{
 "cells": [
  {
   "cell_type": "markdown",
   "id": "104fc4ba-f98e-49fb-84f4-545eedeed4c4",
   "metadata": {},
   "source": [
    "Kamus Sentimen\n",
    "==============\n",
    "\n",
    "***Alfin Rifaldi (A11.2022.14684)***\n",
    "\n",
    "---\n",
    "\n",
    "### Mengenal String dalam Python"
   ]
  },
  {
   "cell_type": "code",
   "execution_count": 1,
   "id": "f70c605c-1a23-4b9d-8d7f-c6c601beab3b",
   "metadata": {},
   "outputs": [
    {
     "name": "stdout",
     "output_type": "stream",
     "text": [
      "14\n"
     ]
    }
   ],
   "source": [
    "word = 'Kamus Sentimen'\n",
    "print(len(word))"
   ]
  },
  {
   "cell_type": "code",
   "execution_count": 2,
   "id": "e625f228-25d6-4ef7-af49-83e0741d1ed1",
   "metadata": {},
   "outputs": [
    {
     "name": "stdout",
     "output_type": "stream",
     "text": [
      "6\n"
     ]
    }
   ],
   "source": [
    "multiline = '''1\n",
    "2\n",
    "3\n",
    "'''\n",
    "print(len(multiline))"
   ]
  },
  {
   "cell_type": "code",
   "execution_count": 3,
   "id": "72fa670f-25d5-4633-9b38-722a52709ec2",
   "metadata": {},
   "outputs": [
    {
     "name": "stdout",
     "output_type": "stream",
     "text": [
      "12\n"
     ]
    }
   ],
   "source": [
    "str1 = '1'\n",
    "str2 = '2'\n",
    "\n",
    "print(str1 + str2)"
   ]
  },
  {
   "cell_type": "code",
   "execution_count": 4,
   "id": "bbc7a5a6-cc22-4db6-8962-688299e688c8",
   "metadata": {},
   "outputs": [
    {
     "name": "stdout",
     "output_type": "stream",
     "text": [
      "97\n",
      "32\n",
      "65\n"
     ]
    }
   ],
   "source": [
    "ch1 = 'a'\n",
    "ch2 = ' ' #space\n",
    "ch3 = 'A'\n",
    "\n",
    "print(ord(ch1))\n",
    "print(ord(ch2))\n",
    "print(ord(ch3))"
   ]
  },
  {
   "cell_type": "code",
   "execution_count": 6,
   "id": "b1077257-2198-4de4-868c-43dd9b759abc",
   "metadata": {},
   "outputs": [
    {
     "name": "stdout",
     "output_type": "stream",
     "text": [
      "E\n"
     ]
    }
   ],
   "source": [
    "print(chr(69))"
   ]
  },
  {
   "cell_type": "code",
   "execution_count": 7,
   "id": "8a258a19-eab2-4925-90b4-a80d6834194c",
   "metadata": {},
   "outputs": [
    {
     "name": "stdout",
     "output_type": "stream",
     "text": [
      "Kms Sntmn"
     ]
    }
   ],
   "source": [
    "cthString=\"Kamus Sentimen\"\n",
    "vokal = ['a','i','u','e','o']\n",
    "\n",
    "for i in range(len(cthString)):\n",
    "    if cthString[i].lower() in vokal:\n",
    "        continue\n",
    "    print(cthString[i], end=\"\")"
   ]
  },
  {
   "cell_type": "code",
   "execution_count": 8,
   "id": "e117f202-47ad-4d3e-a38d-f6d8ad559249",
   "metadata": {},
   "outputs": [
    {
     "name": "stdout",
     "output_type": "stream",
     "text": [
      "a tn\n",
      "amus\n",
      "us Sentimen\n",
      "Kam\n",
      "KmsSnie\n"
     ]
    }
   ],
   "source": [
    "cthSlice = \"Kamus Sentimen\"\n",
    "\n",
    "print(cthSlice[1::4])\n",
    "print(cthSlice[1:5])\n",
    "print(cthSlice[3:])\n",
    "print(cthSlice[:3])\n",
    "print(cthSlice[::2])"
   ]
  },
  {
   "cell_type": "code",
   "execution_count": 11,
   "id": "36de9660-2fbc-4484-a958-932e9b8219d4",
   "metadata": {},
   "outputs": [
    {
     "name": "stdout",
     "output_type": "stream",
     "text": [
      "b\n",
      "bcdefghijklmnopqrstuvwxyz\n"
     ]
    }
   ],
   "source": [
    "alphabet = 'abcdefghijklmnopqrstuvwxyz'\n",
    "print(alphabet[1])\n",
    "\n",
    "# Untuk menghapus item pertama dari string, Anda dapat menggunakan slicing\n",
    "alphabet = alphabet[1:]\n",
    "print(alphabet)"
   ]
  },
  {
   "cell_type": "code",
   "execution_count": 14,
   "id": "7a48c795-4344-41f8-9979-bc4bd10413e8",
   "metadata": {},
   "outputs": [
    {
     "name": "stdout",
     "output_type": "stream",
     "text": [
      "['a', 'b', 'c', 'd', 'e', 'f', 'g', 'h', 'i', 'j', 'k', 'l', 'm', 'n', 'o', 'p', 'q', 'r', 's', 't', 'u', 'v', 'w', 'x', 'y', 'z']\n",
      "aAbcdefghijklmnopqrstuvwxyz\n"
     ]
    }
   ],
   "source": [
    "alphabet = list('abcdefghijklmnopqrstuvwxyz')\n",
    "print(alphabet)\n",
    "\n",
    "# Gunakan metode insert untuk menyisipkan karakter \"A\" pada indeks 1\n",
    "alphabet.insert(1, \"A\")\n",
    "\n",
    "# Konversikan kembali daftar menjadi string\n",
    "new_alphabet = ''.join(alphabet)\n",
    "print(new_alphabet)"
   ]
  },
  {
   "cell_type": "code",
   "execution_count": 16,
   "id": "bcd1a6f2-1640-469b-9e88-fc40da5e4013",
   "metadata": {},
   "outputs": [
    {
     "name": "stdout",
     "output_type": "stream",
     "text": [
      "1\n"
     ]
    }
   ],
   "source": [
    "v = \"valen\"\n",
    "print(v.find('al'))"
   ]
  },
  {
   "cell_type": "code",
   "execution_count": 18,
   "id": "bdbfe19f-3143-496c-bc12-aa47abbe545e",
   "metadata": {},
   "outputs": [
    {
     "name": "stdout",
     "output_type": "stream",
     "text": [
      "104\n",
      "336\n"
     ]
    }
   ],
   "source": [
    "txt = \"\"\"Analisis Sentimen merupakan salah satu cabang penelitian Text Mining \n",
    "yang menganalisa opini atau nilai sentimen dari suatu dokumen teks, \n",
    "baik keseluruhan dokumen, paragraf, kalimat, atau klausa.\n",
    "Pada prosesnya, Analisis Sentimen termasuk ke dalam Supervised Learning \n",
    "dalam metode Machine Learning. \n",
    "Sistem akan mengklasifikasi nilai sentimen berdasarkan \n",
    "hasil pembelajarannya pada data latih (training data).\n",
    "Metode ini juga tidak terlepas dari teknik Natural Language Processing (NLP) \n",
    "agar sistem dapat memahami bahasa alami manusia.\"\"\"\n",
    "\n",
    "fnd = txt.find('sentimen')\n",
    "while fnd != -1:\n",
    "    print(fnd)\n",
    "    fnd = txt.find('sentimen', fnd + 1) "
   ]
  },
  {
   "cell_type": "markdown",
   "id": "8e0f2111-ae94-486e-90f7-af4a1298780f",
   "metadata": {},
   "source": [
    "#### 1. Some of the methods offered by strings are:\n",
    "\n",
    "- `capitalize()` – changes all string letters to capitals;\n",
    "- `center()` – centers the string inside the field of a known length;\n",
    "- `count()` – counts the occurrences of a given character;\n",
    "- `join()` – joins all items of a tuple/list into one string;\n",
    "- `lower()` – converts all the string's letters into lower-case letters;\n",
    "- `lstrip()` – removes the white characters from the beginning of the string;\n",
    "- `replace()` – replaces a given substring with another;\n",
    "- `rfind()` – finds a substring starting from the end of the string;\n",
    "- `rstrip()` – removes the trailing white spaces from the end of the string;\n",
    "- `split()` – splits the string into a substring using a given delimiter;\n",
    "- `strip()` – removes the leading and trailing white spaces;\n",
    "- `swapcase()` – swaps the letters' cases (lower to upper and vice versa)\n",
    "- `title()` – makes the first letter in each word upper-case;\n",
    "- `upper()` – converts all the string's letter into upper-case letters.\n",
    "\n",
    "#### 2. String content can be determined using the following methods (all of them return Boolean values):\n",
    "\n",
    "- `endswith()` – does the string end with a given substring?\n",
    "- `isalnum()` – does the string consist only of letters and digits?\n",
    "- `isalpha()` – does the string consist only of letters?\n",
    "- `islower()` – does the string consists only of lower-case letters?\n",
    "- `isspace()` – does the string consists only of white spaces?\n",
    "- `isupper()` – does the string consists only of upper-case letters?\n",
    "- `startswith()` – does the string begin with a given substring?"
   ]
  },
  {
   "cell_type": "markdown",
   "id": "9c65406a-b977-4c36-b40e-70a2ba299e6b",
   "metadata": {},
   "source": [
    "# Table of contents\n",
    "- [Cleaning Words](#cleaning-words)\n",
    "    - [import library](#import-library)\n",
    "    - [remove tab new line and back slice](#remove-tab-new-line-and-back-slice)\n",
    "    - [remove non ASCII emoticon chinese word](#remove-non-ASCII-emoticon-chinese-word)\n",
    "    - [remove mention link hashtag](#remove-mention-link-hashtag)\n",
    "    - [remove RT](#remove-rt)\n",
    "    - [lower](#lower)\n",
    "    - [remove incomplete url](#remove-incomplete-url)\n",
    "    - [remove number](#remove-number)\n",
    "    - [remove whitespace leading and trailing](#remove-whitespace-leading-and-trailing)\n",
    "    - [remove multiple whitespace into single whitespace](#remove-multiple-whitespace-into-single-whitespace)\n",
    "    - [remove single char](#remove-single-char)\n",
    "    - [remove excessive dot](#remove-excessive-dot)\n",
    "    - [remove punctuation](#remove-punctuation)\n",
    "    - [remove excessive whitespace](#remove-excessive-whitespace)"
   ]
  },
  {
   "cell_type": "markdown",
   "id": "d0b191fe-ccc6-41d2-be8b-a35708aa9469",
   "metadata": {},
   "source": [
    "# Cleaning Words <a name=\"cleaning-words\"></a>\n",
    "\n",
    "asumsikan kita sudah mendapat data dari twitter, kemudian kita ingin membersihkan datanya. Maka, kita bisa menggunakan `regular expression`\n",
    "\n",
    "sebagai contoh: \n",
    "\n",
    "`RT : @alzami1986 suka menonton Attack on Titans! (進撃の巨人) #aot  setiap kamis pukul 21.00 di http://netflix.com/aot . \\\\n meski tidak suka kekerasan, tapi cukup menikmati ?! #EldiaHarusMenang melawan #Marley  A ... ` "
   ]
  },
  {
   "cell_type": "code",
   "execution_count": 19,
   "id": "493f24fc-a92b-4f48-9d6a-34bf011ba709",
   "metadata": {},
   "outputs": [],
   "source": [
    "text = 'RT : @alzami1986 suka menonton Attack on Titans! (進撃の巨人) #aot  setiap kamis pukul 21.00 di http://netflix.com/aot . \\\\n meski tidak suka kekerasan, tapi cukup menikmati ?! #EldiaHarusMenang melawan #Marley  A ...'"
   ]
  },
  {
   "cell_type": "code",
   "execution_count": 20,
   "id": "7baddd75-a146-4fe8-ba11-f777d78cf068",
   "metadata": {},
   "outputs": [
    {
     "name": "stdout",
     "output_type": "stream",
     "text": [
      "RT : @alzami1986 suka menonton Attack on Titans! (進撃の巨人) #aot  setiap kamis pukul 21.00 di http://netflix.com/aot . \\n meski tidak suka kekerasan, tapi cukup menikmati ?! #EldiaHarusMenang melawan #Marley  A ...\n"
     ]
    }
   ],
   "source": [
    "print(text)"
   ]
  },
  {
   "cell_type": "markdown",
   "id": "acc7ecfa-098f-43ca-81dc-3d1706c788cb",
   "metadata": {},
   "source": [
    "## import library <a name=\"import-library\"></a>"
   ]
  },
  {
   "cell_type": "code",
   "execution_count": 21,
   "id": "37501c6e-9a26-4931-abad-225852bc7943",
   "metadata": {},
   "outputs": [],
   "source": [
    "import re\n",
    "import string\n",
    "import time\n",
    "from copy import deepcopy"
   ]
  },
  {
   "cell_type": "markdown",
   "id": "bc790008-e509-48fb-b1ee-7874988364c0",
   "metadata": {},
   "source": [
    "## remove tab new line and back slice  <a name=\"remove-tab-new-line-and-back-slice\"></a>"
   ]
  },
  {
   "cell_type": "code",
   "execution_count": 22,
   "id": "ea0eba0b-7b52-45ad-870b-beb7153149b0",
   "metadata": {},
   "outputs": [
    {
     "name": "stdout",
     "output_type": "stream",
     "text": [
      "RT : @alzami1986 suka menonton Attack on Titans! (進撃の巨人) #aot  setiap kamis pukul 21.00 di http://netflix.com/aot .   meski tidak suka kekerasan, tapi cukup menikmati ?! #EldiaHarusMenang melawan #Marley  A ...\n"
     ]
    }
   ],
   "source": [
    "hasil = text.replace('\\\\t',\" \").replace('\\\\n',\" \").replace('\\\\u',\" \").replace('\\\\',\"\")\n",
    "print(hasil)"
   ]
  },
  {
   "cell_type": "markdown",
   "id": "64516b17-8aad-4786-a79d-2ba2b3f5338a",
   "metadata": {},
   "source": [
    "## remove non ASCII emoticon chinese word <a name=\"remove-non-ASCII-emoticon-chinese-word\"></a>"
   ]
  },
  {
   "cell_type": "code",
   "execution_count": 24,
   "id": "5cf77e56-0f75-49ad-97da-8eaaa0b2987b",
   "metadata": {},
   "outputs": [
    {
     "name": "stdout",
     "output_type": "stream",
     "text": [
      "RT : @alzami1986 suka menonton Attack on Titans! (?????) #aot  setiap kamis pukul 21.00 di http://netflix.com/aot .   meski tidak suka kekerasan, tapi cukup menikmati ?! #EldiaHarusMenang melawan #Marley  A ...\n"
     ]
    }
   ],
   "source": [
    "hasil = hasil.encode('ascii', 'replace').decode('ascii')\n",
    "print(hasil)"
   ]
  },
  {
   "cell_type": "markdown",
   "id": "324f6196-b77a-4a58-87f0-66f2b6e39d83",
   "metadata": {},
   "source": [
    "## remove mention, link, hashtag <a name=\"remove-mention-link-hashtag\"></a>"
   ]
  },
  {
   "cell_type": "code",
   "execution_count": 25,
   "id": "443735f8-3e66-49dc-a133-2bf3737f4df0",
   "metadata": {},
   "outputs": [
    {
     "name": "stdout",
     "output_type": "stream",
     "text": [
      "RT : suka menonton Attack on Titans! (?????) setiap kamis pukul 21.00 di . meski tidak suka kekerasan, tapi cukup menikmati ?! melawan A ...\n"
     ]
    }
   ],
   "source": [
    "hasil = ' '.join(re.sub(\"([@#][A-Za-z0-9]+)|(\\w+:\\/\\/\\S+)\",\" \", hasil).split())\n",
    "print(hasil)"
   ]
  },
  {
   "cell_type": "markdown",
   "id": "67bbfc06-3e87-477e-be10-e7ce92b68755",
   "metadata": {},
   "source": [
    "## remove RT <a name=\"remove-rt\"></a>"
   ]
  },
  {
   "cell_type": "code",
   "execution_count": 26,
   "id": "3773f1a4-bd17-4a18-9629-ad891463d6a2",
   "metadata": {},
   "outputs": [
    {
     "name": "stdout",
     "output_type": "stream",
     "text": [
      "suka menonton Attack on Titans! (?????) setiap kamis pukul 21.00 di . meski tidak suka kekerasan, tapi cukup menikmati ?! melawan A ...\n"
     ]
    }
   ],
   "source": [
    "hasil = hasil.replace('RT : ',\"\")\n",
    "print(hasil)"
   ]
  },
  {
   "cell_type": "markdown",
   "id": "2a7bf6d2-38af-409a-b93d-cd3d54112e5f",
   "metadata": {},
   "source": [
    "## lower <a name=\"lower\"></a>"
   ]
  },
  {
   "cell_type": "code",
   "execution_count": 27,
   "id": "34c9ad40-320d-45cf-bfb8-c3560aa276c3",
   "metadata": {},
   "outputs": [
    {
     "name": "stdout",
     "output_type": "stream",
     "text": [
      "suka menonton attack on titans! (?????) setiap kamis pukul 21.00 di . meski tidak suka kekerasan, tapi cukup menikmati ?! melawan a ...\n"
     ]
    }
   ],
   "source": [
    "hasil = hasil.lower()\n",
    "print(hasil)"
   ]
  },
  {
   "cell_type": "markdown",
   "id": "0b58ccee-8bf6-4199-bdb4-da212af261e6",
   "metadata": {},
   "source": [
    "## remove incomplete URL <a name=\"remove-incomplete-url\"></a>"
   ]
  },
  {
   "cell_type": "code",
   "execution_count": 28,
   "id": "b5fe19cc-f4eb-486b-8f8b-a7e905765b87",
   "metadata": {},
   "outputs": [
    {
     "name": "stdout",
     "output_type": "stream",
     "text": [
      "suka menonton attack on titans! (?????) setiap kamis pukul 21.00 di . meski tidak suka kekerasan, tapi cukup menikmati ?! melawan a ...\n"
     ]
    }
   ],
   "source": [
    "hasil = hasil.replace('http://',\"\").replace('https://',\"\")\n",
    "print(hasil)"
   ]
  },
  {
   "cell_type": "markdown",
   "id": "277077bf-8981-4f63-9a9c-1a1e8dd23c81",
   "metadata": {},
   "source": [
    "## remove number <a name=\"remove-number\"></a>"
   ]
  },
  {
   "cell_type": "code",
   "execution_count": 29,
   "id": "d0fee8b5-6a38-4fdc-862d-7ca1b52d19cf",
   "metadata": {},
   "outputs": [],
   "source": [
    "def remove_number(hasil):\n",
    "    return re.sub(r\"\\d+\", \"\", hasil)"
   ]
  },
  {
   "cell_type": "code",
   "execution_count": 30,
   "id": "035461ec-4d30-4cef-aec2-558611ec1863",
   "metadata": {},
   "outputs": [
    {
     "name": "stdout",
     "output_type": "stream",
     "text": [
      "suka menonton attack on titans! (?????) setiap kamis pukul . di . meski tidak suka kekerasan, tapi cukup menikmati ?! melawan a ...\n"
     ]
    }
   ],
   "source": [
    "hasil = remove_number(hasil)\n",
    "print(hasil)"
   ]
  },
  {
   "cell_type": "markdown",
   "id": "4fe5df00-4481-49e7-bb25-07321fdab3cb",
   "metadata": {},
   "source": [
    "## remove whitespace leading and trailing <a name=\"remove-whitespace-leading-and-trailing\"></a>\n",
    "\n",
    "digunakan untuk menghapus tanda spasi setelah titik pada akhir kalimat"
   ]
  },
  {
   "cell_type": "code",
   "execution_count": 32,
   "id": "254b4f96-d1ca-43a3-a142-6caec9939a81",
   "metadata": {},
   "outputs": [],
   "source": [
    "def remove_whitespace(hasil):\n",
    "    return hasil.strip()"
   ]
  },
  {
   "cell_type": "code",
   "execution_count": 33,
   "id": "10e8a371-a58b-4bc6-857c-0c8757fb852a",
   "metadata": {},
   "outputs": [
    {
     "name": "stdout",
     "output_type": "stream",
     "text": [
      "suka menonton attack on titans! (?????) setiap kamis pukul . di . meski tidak suka kekerasan, tapi cukup menikmati ?! melawan a ...\n"
     ]
    }
   ],
   "source": [
    "hasil = remove_whitespace(hasil)\n",
    "print(hasil)"
   ]
  },
  {
   "cell_type": "code",
   "execution_count": 34,
   "id": "0fb4c687-1264-4dab-a812-a150583fead5",
   "metadata": {},
   "outputs": [
    {
     "data": {
      "text/plain": [
       "'RT : @alzami1986 suka menonton Attack on Titans! (進撃の巨人) #aot  setiap kamis pukul 21.00 di http://netflix.com/aot . \\\\n meski tidak suka kekerasan, tapi cukup menikmati ?! #EldiaHarusMenang melawan #Marley  A ...'"
      ]
     },
     "execution_count": 34,
     "metadata": {},
     "output_type": "execute_result"
    }
   ],
   "source": [
    "text"
   ]
  },
  {
   "cell_type": "markdown",
   "id": "c2c3aa24-fa6a-4e37-a8a5-80781e31cbc6",
   "metadata": {},
   "source": [
    "## remove multiple whitespace into single whitespace <a name=\"remove-multiple-whitespace-into-single-whitespace\"></a>"
   ]
  },
  {
   "cell_type": "code",
   "execution_count": 35,
   "id": "df03973b-78e6-4122-871c-2a2ade21431a",
   "metadata": {},
   "outputs": [],
   "source": [
    "def remove_whitespace_multi(hasil):\n",
    "    return re.sub('\\s+',' ',hasil)"
   ]
  },
  {
   "cell_type": "code",
   "execution_count": 36,
   "id": "caab63af-af79-4c0b-b7d0-38c7ee7257a7",
   "metadata": {},
   "outputs": [
    {
     "name": "stdout",
     "output_type": "stream",
     "text": [
      "suka menonton attack on titans! (?????) setiap kamis pukul . di . meski tidak suka kekerasan, tapi cukup menikmati ?! melawan a ...\n"
     ]
    }
   ],
   "source": [
    "hasil = remove_whitespace_multi(hasil)\n",
    "print(hasil)"
   ]
  },
  {
   "cell_type": "markdown",
   "id": "96468e91-b516-4eb9-8a5b-715788be8cc9",
   "metadata": {},
   "source": [
    "## remove single char <a name=\"remove-single-char\"></a>"
   ]
  },
  {
   "cell_type": "code",
   "execution_count": 37,
   "id": "0f93aa74-df88-4c02-b26d-b4c1e907a758",
   "metadata": {},
   "outputs": [],
   "source": [
    "def remove_single_char(hasil):\n",
    "    return re.sub(r\"\\b[a-zA-Z]\\b\", \"\", hasil)"
   ]
  },
  {
   "cell_type": "code",
   "execution_count": 38,
   "id": "d76a6693-1415-4346-bc14-15fc81b017ec",
   "metadata": {},
   "outputs": [
    {
     "name": "stdout",
     "output_type": "stream",
     "text": [
      "suka menonton attack on titans! (?????) setiap kamis pukul . di . meski tidak suka kekerasan, tapi cukup menikmati ?! melawan  ...\n"
     ]
    }
   ],
   "source": [
    "hasil = remove_single_char(hasil)\n",
    "print(hasil)"
   ]
  },
  {
   "cell_type": "markdown",
   "id": "c419268e-b71c-428b-994c-6d887ed8e1f5",
   "metadata": {},
   "source": [
    "## remove excessive dot <a name=\"remove-excessive-dot\"></a>"
   ]
  },
  {
   "cell_type": "code",
   "execution_count": 39,
   "id": "3ddd6ab8-6202-4ebd-90e7-bb4cf6520257",
   "metadata": {},
   "outputs": [],
   "source": [
    "def remove_excessive_dot(hasil):\n",
    "    return hasil.replace('...',\" \")"
   ]
  },
  {
   "cell_type": "code",
   "execution_count": 40,
   "id": "6de45d58-4ca3-4500-b002-c35bf8d0b7ac",
   "metadata": {},
   "outputs": [
    {
     "name": "stdout",
     "output_type": "stream",
     "text": [
      "suka menonton attack on titans! (?????) setiap kamis pukul . di . meski tidak suka kekerasan, tapi cukup menikmati ?! melawan   \n"
     ]
    }
   ],
   "source": [
    "hasil = remove_excessive_dot(hasil)\n",
    "print(hasil)"
   ]
  },
  {
   "cell_type": "markdown",
   "id": "26048aae-c075-4593-a526-9c12fe2e6006",
   "metadata": {},
   "source": [
    "## remove punctuation <a name=\"remove-punctuation\"></a>"
   ]
  },
  {
   "cell_type": "code",
   "execution_count": 41,
   "id": "9eff7055-8902-4f50-aac9-23aee3caefc4",
   "metadata": {},
   "outputs": [],
   "source": [
    "def remove_punctuation(hasil):\n",
    "    return hasil.translate(str.maketrans(\"\",\"\",string.punctuation))"
   ]
  },
  {
   "cell_type": "code",
   "execution_count": 43,
   "id": "6e949a55-55e4-4064-ad0e-2bac9e3226f4",
   "metadata": {},
   "outputs": [
    {
     "name": "stdout",
     "output_type": "stream",
     "text": [
      "suka menonton attack on titans  setiap kamis pukul  di  meski tidak suka kekerasan tapi cukup menikmati  melawan   \n"
     ]
    }
   ],
   "source": [
    "hasil = remove_punctuation(hasil)\n",
    "print(hasil)"
   ]
  },
  {
   "cell_type": "markdown",
   "id": "18c6f854-6ef9-468b-b569-3e39a34a4995",
   "metadata": {},
   "source": [
    "## remove excessive whitespace <a name=\"remove-excessive-whitespace\"></a>"
   ]
  },
  {
   "cell_type": "code",
   "execution_count": 44,
   "id": "5e146f94-64ca-495e-910c-7193fbca972d",
   "metadata": {},
   "outputs": [],
   "source": [
    "document = \" saya                    tidak suka sambal     bikin sakit    \""
   ]
  },
  {
   "cell_type": "code",
   "execution_count": 45,
   "id": "4deb35cd-8f13-4a39-949d-d9e7c548ab4b",
   "metadata": {},
   "outputs": [
    {
     "name": "stdout",
     "output_type": "stream",
     "text": [
      "saya tidak suka sambal bikin sakit\n"
     ]
    }
   ],
   "source": [
    "nowhite = ' '.join(document.split())\n",
    "print(nowhite)"
   ]
  }
 ],
 "metadata": {
  "kernelspec": {
   "display_name": "Python 3 (ipykernel)",
   "language": "python",
   "name": "python3"
  },
  "language_info": {
   "codemirror_mode": {
    "name": "ipython",
    "version": 3
   },
   "file_extension": ".py",
   "mimetype": "text/x-python",
   "name": "python",
   "nbconvert_exporter": "python",
   "pygments_lexer": "ipython3",
   "version": "3.12.2"
  }
 },
 "nbformat": 4,
 "nbformat_minor": 5
}
