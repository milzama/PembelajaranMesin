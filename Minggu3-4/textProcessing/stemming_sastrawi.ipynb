{
 "cells": [
  {
   "cell_type": "markdown",
   "metadata": {},
   "source": [
    "Stemming menggunakan Sastrawi\n",
    "=============================\n",
    "\n",
    "***Alfin Rifaldi (A11.2022.14684)***\n",
    "\n",
    "---"
   ]
  },
  {
   "cell_type": "markdown",
   "metadata": {},
   "source": [
    "# load dataset"
   ]
  },
  {
   "cell_type": "code",
   "execution_count": 1,
   "metadata": {},
   "outputs": [],
   "source": [
    "import pandas as pd"
   ]
  },
  {
   "cell_type": "code",
   "execution_count": 2,
   "metadata": {},
   "outputs": [],
   "source": [
    "dataset = pd.read_csv('clean_dataset.csv', sep=';')"
   ]
  },
  {
   "cell_type": "code",
   "execution_count": 3,
   "metadata": {},
   "outputs": [
    {
     "data": {
      "text/html": [
       "<div>\n",
       "<style scoped>\n",
       "    .dataframe tbody tr th:only-of-type {\n",
       "        vertical-align: middle;\n",
       "    }\n",
       "\n",
       "    .dataframe tbody tr th {\n",
       "        vertical-align: top;\n",
       "    }\n",
       "\n",
       "    .dataframe thead th {\n",
       "        text-align: right;\n",
       "    }\n",
       "</style>\n",
       "<table border=\"1\" class=\"dataframe\">\n",
       "  <thead>\n",
       "    <tr style=\"text-align: right;\">\n",
       "      <th></th>\n",
       "      <th>Unnamed: 0</th>\n",
       "      <th>User</th>\n",
       "      <th>Tweet</th>\n",
       "      <th>sentiment</th>\n",
       "      <th>step01</th>\n",
       "      <th>tokens</th>\n",
       "      <th>final_tokens</th>\n",
       "      <th>step02</th>\n",
       "    </tr>\n",
       "  </thead>\n",
       "  <tbody>\n",
       "    <tr>\n",
       "      <th>0</th>\n",
       "      <td>0</td>\n",
       "      <td>pikobar_jabar</td>\n",
       "      <td>Ketahui informasi pembagian #PPKM di wilayah J...</td>\n",
       "      <td>1.0</td>\n",
       "      <td>ketahui informasi pembagian di wilayah jabar b...</td>\n",
       "      <td>['ketahui', 'informasi', 'pembagian', 'di', 'w...</td>\n",
       "      <td>['ketahui', 'informasi', 'pembagian', 'di', 'w...</td>\n",
       "      <td>ketahui informasi pembagian di wilayah jabar b...</td>\n",
       "    </tr>\n",
       "    <tr>\n",
       "      <th>1</th>\n",
       "      <td>1</td>\n",
       "      <td>inewsdotid</td>\n",
       "      <td>Tempat Ibadah di Wilayah PPKM Level 1 Boleh Be...</td>\n",
       "      <td>1.0</td>\n",
       "      <td>tempat ibadah di wilayah ppkm level   boleh be...</td>\n",
       "      <td>['tempat', 'ibadah', 'di', 'wilayah', 'ppkm', ...</td>\n",
       "      <td>['tempat', 'ibadah', 'di', 'wilayah', 'ppkm', ...</td>\n",
       "      <td>tempat ibadah di wilayah ppkm level boleh berk...</td>\n",
       "    </tr>\n",
       "    <tr>\n",
       "      <th>2</th>\n",
       "      <td>2</td>\n",
       "      <td>vdvc_talk</td>\n",
       "      <td>Juru bicara Satgas Covid-19, Wiku Adisasmito m...</td>\n",
       "      <td>1.0</td>\n",
       "      <td>juru bicara satgas covid   wiku adisasmito men...</td>\n",
       "      <td>['juru', 'bicara', 'satgas', 'covid', 'wiku', ...</td>\n",
       "      <td>['juru', 'bicara', 'satgas', 'covid', 'wiku', ...</td>\n",
       "      <td>juru bicara satgas covid wiku adisasmito menje...</td>\n",
       "    </tr>\n",
       "    <tr>\n",
       "      <th>3</th>\n",
       "      <td>3</td>\n",
       "      <td>pikobar_jabar</td>\n",
       "      <td>Ketahui informasi pembagian #PPKM di wilayah J...</td>\n",
       "      <td>1.0</td>\n",
       "      <td>ketahui informasi pembagian di wilayah jabar b...</td>\n",
       "      <td>['ketahui', 'informasi', 'pembagian', 'di', 'w...</td>\n",
       "      <td>['ketahui', 'informasi', 'pembagian', 'di', 'w...</td>\n",
       "      <td>ketahui informasi pembagian di wilayah jabar b...</td>\n",
       "    </tr>\n",
       "    <tr>\n",
       "      <th>4</th>\n",
       "      <td>4</td>\n",
       "      <td>tvOneNews</td>\n",
       "      <td>Kementerian Agama menerbitkan Surat Edaran Nom...</td>\n",
       "      <td>1.0</td>\n",
       "      <td>kementerian agama menerbitkan surat edaran nom...</td>\n",
       "      <td>['kementerian', 'agama', 'menerbitkan', 'surat...</td>\n",
       "      <td>['kementerian', 'agama', 'menerbitkan', 'surat...</td>\n",
       "      <td>kementerian agama menerbitkan surat edaran nom...</td>\n",
       "    </tr>\n",
       "  </tbody>\n",
       "</table>\n",
       "</div>"
      ],
      "text/plain": [
       "   Unnamed: 0           User  \\\n",
       "0           0  pikobar_jabar   \n",
       "1           1     inewsdotid   \n",
       "2           2      vdvc_talk   \n",
       "3           3  pikobar_jabar   \n",
       "4           4      tvOneNews   \n",
       "\n",
       "                                               Tweet  sentiment  \\\n",
       "0  Ketahui informasi pembagian #PPKM di wilayah J...        1.0   \n",
       "1  Tempat Ibadah di Wilayah PPKM Level 1 Boleh Be...        1.0   \n",
       "2  Juru bicara Satgas Covid-19, Wiku Adisasmito m...        1.0   \n",
       "3  Ketahui informasi pembagian #PPKM di wilayah J...        1.0   \n",
       "4  Kementerian Agama menerbitkan Surat Edaran Nom...        1.0   \n",
       "\n",
       "                                              step01  \\\n",
       "0  ketahui informasi pembagian di wilayah jabar b...   \n",
       "1  tempat ibadah di wilayah ppkm level   boleh be...   \n",
       "2  juru bicara satgas covid   wiku adisasmito men...   \n",
       "3  ketahui informasi pembagian di wilayah jabar b...   \n",
       "4  kementerian agama menerbitkan surat edaran nom...   \n",
       "\n",
       "                                              tokens  \\\n",
       "0  ['ketahui', 'informasi', 'pembagian', 'di', 'w...   \n",
       "1  ['tempat', 'ibadah', 'di', 'wilayah', 'ppkm', ...   \n",
       "2  ['juru', 'bicara', 'satgas', 'covid', 'wiku', ...   \n",
       "3  ['ketahui', 'informasi', 'pembagian', 'di', 'w...   \n",
       "4  ['kementerian', 'agama', 'menerbitkan', 'surat...   \n",
       "\n",
       "                                        final_tokens  \\\n",
       "0  ['ketahui', 'informasi', 'pembagian', 'di', 'w...   \n",
       "1  ['tempat', 'ibadah', 'di', 'wilayah', 'ppkm', ...   \n",
       "2  ['juru', 'bicara', 'satgas', 'covid', 'wiku', ...   \n",
       "3  ['ketahui', 'informasi', 'pembagian', 'di', 'w...   \n",
       "4  ['kementerian', 'agama', 'menerbitkan', 'surat...   \n",
       "\n",
       "                                              step02  \n",
       "0  ketahui informasi pembagian di wilayah jabar b...  \n",
       "1  tempat ibadah di wilayah ppkm level boleh berk...  \n",
       "2  juru bicara satgas covid wiku adisasmito menje...  \n",
       "3  ketahui informasi pembagian di wilayah jabar b...  \n",
       "4  kementerian agama menerbitkan surat edaran nom...  "
      ]
     },
     "execution_count": 3,
     "metadata": {},
     "output_type": "execute_result"
    }
   ],
   "source": [
    "dataset.head()"
   ]
  },
  {
   "cell_type": "markdown",
   "metadata": {},
   "source": [
    "# load sastrawi sebagai stemmer"
   ]
  },
  {
   "cell_type": "code",
   "execution_count": 4,
   "metadata": {},
   "outputs": [
    {
     "name": "stdout",
     "output_type": "stream",
     "text": [
      "Collecting sastrawi\n",
      "  Downloading Sastrawi-1.0.1-py2.py3-none-any.whl.metadata (909 bytes)\n",
      "Downloading Sastrawi-1.0.1-py2.py3-none-any.whl (209 kB)\n",
      "   ---------------------------------------- 0.0/209.7 kB ? eta -:--:--\n",
      "   ---------------------------------------- 0.0/209.7 kB ? eta -:--:--\n",
      "   - -------------------------------------- 10.2/209.7 kB ? eta -:--:--\n",
      "   - -------------------------------------- 10.2/209.7 kB ? eta -:--:--\n",
      "   ----- --------------------------------- 30.7/209.7 kB 330.3 kB/s eta 0:00:01\n",
      "   ----------- --------------------------- 61.4/209.7 kB 409.6 kB/s eta 0:00:01\n",
      "   ------------------------------- ------ 174.1/209.7 kB 958.1 kB/s eta 0:00:01\n",
      "   -------------------------------------- 209.7/209.7 kB 982.4 kB/s eta 0:00:00\n",
      "Installing collected packages: sastrawi\n",
      "Successfully installed sastrawi-1.0.1\n"
     ]
    }
   ],
   "source": [
    "!pip install sastrawi"
   ]
  },
  {
   "cell_type": "code",
   "execution_count": 5,
   "metadata": {},
   "outputs": [],
   "source": [
    "from Sastrawi.Stemmer.StemmerFactory import StemmerFactory\n",
    "factory = StemmerFactory()\n",
    "stemmer = factory.create_stemmer()"
   ]
  },
  {
   "cell_type": "markdown",
   "metadata": {},
   "source": [
    "## hapus stop words"
   ]
  },
  {
   "cell_type": "code",
   "execution_count": 6,
   "metadata": {},
   "outputs": [],
   "source": [
    "from Sastrawi.StopWordRemover.StopWordRemoverFactory import StopWordRemoverFactory, StopWordRemover, ArrayDictionary\n",
    " \n",
    "factory = StopWordRemoverFactory()\n",
    "\n",
    "more_stopword = ['sih', 'nya','rt','loh','lah', 'dd', 'mah', 'nye', 'eh', 'ehh', 'ah', 'yang','yg']\n",
    " \n",
    "# Tambahkan Stopword Baru\n",
    "data = factory.get_stop_words()+more_stopword\n",
    "\n",
    "stopwords_sastrawi = factory.create_stop_word_remover()\n",
    "\n",
    "dictionary = ArrayDictionary(data)\n",
    "str_stopwords = StopWordRemover(dictionary)"
   ]
  },
  {
   "cell_type": "code",
   "execution_count": 7,
   "metadata": {},
   "outputs": [],
   "source": [
    "dataset['finalText_str'] = dataset['step02'].apply(str)"
   ]
  },
  {
   "cell_type": "code",
   "execution_count": null,
   "metadata": {},
   "outputs": [],
   "source": [
    "i=0\n",
    "final_string = []\n",
    "s = \"\"\n",
    "for sentence in dataset[\"finalText_str\"].values:\n",
    "    filteredSentence = []\n",
    "    EachReviewText = \"\"\n",
    "    st = str_stopwords.remove(sentence)\n",
    "    s = (stemmer.stem(st))\n",
    "    filteredSentence.append(s)\n",
    "    \n",
    "    EachReviewText = ' '.join(filteredSentence)\n",
    "    final_string.append(EachReviewText)"
   ]
  },
  {
   "cell_type": "code",
   "execution_count": null,
   "metadata": {},
   "outputs": [],
   "source": [
    "dataset.loc[:, ('ProcessedText')] = final_string"
   ]
  },
  {
   "cell_type": "code",
   "execution_count": null,
   "metadata": {},
   "outputs": [],
   "source": [
    "dataset"
   ]
  },
  {
   "cell_type": "code",
   "execution_count": null,
   "metadata": {},
   "outputs": [],
   "source": [
    "dataset.to_csv('clean_dataset_stem.csv',sep=';')"
   ]
  },
  {
   "cell_type": "code",
   "execution_count": null,
   "metadata": {},
   "outputs": [],
   "source": []
  }
 ],
 "metadata": {
  "kernelspec": {
   "display_name": "Python 3 (ipykernel)",
   "language": "python",
   "name": "python3"
  },
  "language_info": {
   "codemirror_mode": {
    "name": "ipython",
    "version": 3
   },
   "file_extension": ".py",
   "mimetype": "text/x-python",
   "name": "python",
   "nbconvert_exporter": "python",
   "pygments_lexer": "ipython3",
   "version": "3.12.2"
  }
 },
 "nbformat": 4,
 "nbformat_minor": 4
}
